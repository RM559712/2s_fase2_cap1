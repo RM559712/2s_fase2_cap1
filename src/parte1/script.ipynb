{
 "cells": [
  {
   "cell_type": "markdown",
   "id": "e19fba48-8e12-4fa2-83e8-cb89976520d8",
   "metadata": {},
   "source": [
    "# Sobre o modelo\n",
    "\n",
    "O processo abaixo demonstra como um modelo simples de associação entre palavras e/ou expressões comuns pode gerar um diagnóstico rápido a partir de mapas contendo sintomas e seus diagnósticos."
   ]
  },
  {
   "cell_type": "code",
   "execution_count": 91,
   "id": "8d5595f3-3fd3-4f76-ba7b-6c6a2475064d",
   "metadata": {},
   "outputs": [],
   "source": [
    "import os\n",
    "import csv"
   ]
  },
  {
   "cell_type": "markdown",
   "id": "4cfafa41-2e8d-45ee-b750-4110e44a22b4",
   "metadata": {},
   "source": [
    "Função responsável pelo carregamento de arquivos do tipo CSV contendo um mapa de sintomas com diagnóstico."
   ]
  },
  {
   "cell_type": "code",
   "execution_count": 92,
   "id": "efbd29b9-79e7-4603-ae82-94f3928cea01",
   "metadata": {},
   "outputs": [],
   "source": [
    "def load_symptoms_map(str_csv_path: str = '') -> list:\n",
    "    list_map = []\n",
    "    with open(str_csv_path, newline='', encoding='utf-8') as object_csv_file:\n",
    "        object_file = csv.DictReader(object_csv_file)\n",
    "        for dict_row in object_file:\n",
    "            list_map.append({\n",
    "                \"sintoma1\": dict_row[\"Sintoma 1\"].lower(),\n",
    "                \"sintoma2\": dict_row[\"Sintoma 2\"].lower(),\n",
    "                \"doenca\": dict_row[\"Doença Associada\"]\n",
    "            })\n",
    "    return list_map"
   ]
  },
  {
   "cell_type": "markdown",
   "id": "eca2a579-7840-4ffb-8010-a44525d41bef",
   "metadata": {},
   "source": [
    "Função responsável por executar uma análise simples utilizando sintomas com base em um mapa de sintomas com diagnósticos."
   ]
  },
  {
   "cell_type": "code",
   "execution_count": 93,
   "id": "f2d85fb8-e655-432a-8127-5808f2d62c27",
   "metadata": {},
   "outputs": [],
   "source": [
    "def simple_analyze_sentences(str_sentences_path_file: str = '', list_symptoms_map: list = []) -> None:\n",
    "    with open(str_sentences_path_file, \"r\", encoding=\"utf-8\") as object_sentences_file:\n",
    "        list_sentences = object_sentences_file.readlines()\n",
    "\n",
    "    for str_sentences in list_sentences:\n",
    "        str_sentences_lower = str_sentences.lower()\n",
    "        str_diagnostic = \"Não identificado\"\n",
    "        for dict_symptom in list_symptoms_map:\n",
    "            if dict_symptom[\"sintoma1\"] in str_sentences_lower or dict_symptom[\"sintoma2\"] in str_diagnostic:\n",
    "                str_diagnostic = dict_symptom[\"doenca\"]\n",
    "                break\n",
    "        print(f\"Frase: {str_sentences.strip()}\")\n",
    "        print(f\"→ Diagnóstico sugerido: {str_diagnostic}\\n\")\n"
   ]
  },
  {
   "cell_type": "markdown",
   "id": "fb1305aa-3067-4d8b-8536-1a88411c721e",
   "metadata": {},
   "source": [
    "Execução do mapeamento de um arquivo de teste contendo um mapa de sintomas com diagnósticos."
   ]
  },
  {
   "cell_type": "code",
   "execution_count": 94,
   "id": "cf1d49b4-6998-402b-baec-88062dbc70d4",
   "metadata": {},
   "outputs": [],
   "source": [
    "list_symptoms_map = load_symptoms_map(f\"symptoms_map{os.sep}symptoms_map_example1.csv\")"
   ]
  },
  {
   "cell_type": "markdown",
   "id": "163c3d1d-f448-47b4-a531-162c34d66642",
   "metadata": {},
   "source": [
    "Execução da análise simples utilizando como parâmetros o arquivo de teste contendo um mapa de sintomas com diagnósticos e um arquivo de texto simples contendo sintomas descritos."
   ]
  },
  {
   "cell_type": "code",
   "execution_count": 95,
   "id": "619c6489-2d83-4d6c-9248-4189f4c88937",
   "metadata": {},
   "outputs": [
    {
     "name": "stdout",
     "output_type": "stream",
     "text": [
      "Frase: Hà quatro dias, sinto tontura quando me levanto muito rápido.\n",
      "→ Diagnóstico sugerido: Labirintite\n",
      "\n",
      "Frase: Há uma semana, mesmo depois de descansar, sinto cansaço constante.\n",
      "→ Diagnóstico sugerido: Insuficiência Cardíaca\n",
      "\n",
      "Frase: Minha garganta está inflamada há dois dias e tenho dificuldade para engolir.\n",
      "→ Diagnóstico sugerido: Não identificado\n",
      "\n",
      "Frase: Tenho tosse persistente há mais de dez dias e também estou com dificuldade para respirar durante a noite.\n",
      "→ Diagnóstico sugerido: Bronquite\n",
      "\n",
      "Frase: Há dois dias estou com uma dor no peito. Observei que ela piora quando faço algum esforço físico.\n",
      "→ Diagnóstico sugerido: Infarto\n",
      "\n",
      "Frase: Estou com dor de cabeça forte há dois dias. Já tomei alguns remédios mas ela persiste.\n",
      "→ Diagnóstico sugerido: Enxaqueca\n",
      "\n",
      "Frase: Tenho falta de ar quando subo escadas ou quando faço algum esforço físico. Observei que isso ocorre há quatro dias.\n",
      "→ Diagnóstico sugerido: Angina\n",
      "\n",
      "Frase: Tenho febre alta há dois dias acompanhada de muitos calafrios.\n",
      "→ Diagnóstico sugerido: Infecção Viral\n",
      "\n",
      "Frase: Hà uma semana mais ou menos, observei uma dor abdominal intensa depois das refeições.\n",
      "→ Diagnóstico sugerido: Gastrite\n",
      "\n",
      "Frase: Estou há alguns dias com a visão embaçada e com dificuldades para enxergar à noite.\n",
      "→ Diagnóstico sugerido: Catarata\n",
      "\n",
      "Frase: Minha dor de cabeça vem piorando faz três semanas.\n",
      "→ Diagnóstico sugerido: Enxaqueca\n",
      "\n",
      "Frase: Estou tomando remédios, porém, continuo com náuseas e tontura.\n",
      "→ Diagnóstico sugerido: Labirintite\n",
      "\n",
      "Frase: Há duas semanas estou com tontura e visão turva quando faço algum tipo de esforço físico.\n",
      "→ Diagnóstico sugerido: Labirintite\n",
      "\n",
      "Frase: Minha tosse melhorou na semana passada, porém, voltou nesta semana e também estou com um pouco de dor de cabeça.\n",
      "→ Diagnóstico sugerido: Enxaqueca\n",
      "\n",
      "Frase: Tenho tido febre com frequência nas quatro últimas semanas, além de tontura e um pouco de dor no peito.\n",
      "→ Diagnóstico sugerido: Infarto\n",
      "\n"
     ]
    }
   ],
   "source": [
    "simple_analyze_sentences(f\"symptoms{os.sep}symptoms_example1.txt\", list_symptoms_map)"
   ]
  },
  {
   "cell_type": "markdown",
   "id": "78af89ff-8916-455a-9797-d2e3a7400527",
   "metadata": {},
   "source": [
    "Fim do processo de análise."
   ]
  }
 ],
 "metadata": {
  "kernelspec": {
   "display_name": "Python 3 (ipykernel)",
   "language": "python",
   "name": "python3"
  },
  "language_info": {
   "codemirror_mode": {
    "name": "ipython",
    "version": 3
   },
   "file_extension": ".py",
   "mimetype": "text/x-python",
   "name": "python",
   "nbconvert_exporter": "python",
   "pygments_lexer": "ipython3",
   "version": "3.12.5"
  }
 },
 "nbformat": 4,
 "nbformat_minor": 5
}
