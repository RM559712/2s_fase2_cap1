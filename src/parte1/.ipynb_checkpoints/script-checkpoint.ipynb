{
 "cells": [
  {
   "cell_type": "markdown",
   "id": "e19fba48-8e12-4fa2-83e8-cb89976520d8",
   "metadata": {},
   "source": [
    "# Sobre o modelo\n",
    "\n",
    "O processo abaixo demonstra como um modelo simples de associação entre palavras e/ou expressões comuns pode gerar um diagnóstico rápido a partir de mapas contendo sintomas e seus diagnósticos."
   ]
  },
  {
   "cell_type": "code",
   "execution_count": 1,
   "id": "8d5595f3-3fd3-4f76-ba7b-6c6a2475064d",
   "metadata": {},
   "outputs": [],
   "source": [
    "import os\n",
    "import csv"
   ]
  },
  {
   "cell_type": "markdown",
   "id": "bde9dad8-1b12-4ca7-af5d-f4a58646a796",
   "metadata": {},
   "source": [
    "### 1. Funções que irão auxiliar na execução do processo."
   ]
  },
  {
   "cell_type": "markdown",
   "id": "4cfafa41-2e8d-45ee-b750-4110e44a22b4",
   "metadata": {},
   "source": [
    "Função responsável pelo carregamento de arquivos do tipo csv contendo mapas com sintomas e seus diagnóstico."
   ]
  },
  {
   "cell_type": "code",
   "execution_count": 2,
   "id": "efbd29b9-79e7-4603-ae82-94f3928cea01",
   "metadata": {},
   "outputs": [],
   "source": [
    "def load_file_symptoms_map(str_file_path: str = '') -> list:\n",
    "    list_return = []\n",
    "\n",
    "    try:\n",
    "        with open(str_file_path, newline='', encoding='utf-8') as object_opened_file:\n",
    "            object_file = csv.DictReader(object_opened_file)\n",
    "            for dict_row in object_file:\n",
    "                list_return.append({\n",
    "                    \"sintoma1\": dict_row[\"Sintoma 1\"].lower(),\n",
    "                    \"sintoma2\": dict_row[\"Sintoma 2\"].lower(),\n",
    "                    \"doenca\": dict_row[\"Doença Associada\"]\n",
    "                })\n",
    "\n",
    "    except Exception as error:\n",
    "        print(f\"Ocorreu o seguinte erro: {error}\")\n",
    "\n",
    "    return list_return"
   ]
  },
  {
   "cell_type": "markdown",
   "id": "987a4b5b-cf2c-444c-88a8-d666ff4088f5",
   "metadata": {},
   "source": [
    "Função responsável pelo carregamento de arquivos do tipo txt contendo listas com sintomas de pacientes."
   ]
  },
  {
   "cell_type": "code",
   "execution_count": 3,
   "id": "c9dda874-caca-4835-9cfe-d8e9304677a3",
   "metadata": {},
   "outputs": [],
   "source": [
    "def load_file_symptoms(str_file_path: str = '') -> list:\n",
    "    list_return = []\n",
    "\n",
    "    try:\n",
    "        with open(str_file_path, \"r\", encoding=\"utf-8\") as object_opened_file:\n",
    "            list_return = object_opened_file.readlines()\n",
    "\n",
    "    except Exception as error:\n",
    "        print(f\"Ocorreu o seguinte erro: {error}\")\n",
    "\n",
    "    return list_return"
   ]
  },
  {
   "cell_type": "markdown",
   "id": "eca2a579-7840-4ffb-8010-a44525d41bef",
   "metadata": {},
   "source": [
    "Função responsável por executar uma análise simples utilizando sintomas de pacientes com base em um mapa de sintomas com diagnósticos."
   ]
  },
  {
   "cell_type": "code",
   "execution_count": 4,
   "id": "f2d85fb8-e655-432a-8127-5808f2d62c27",
   "metadata": {},
   "outputs": [],
   "source": [
    "def simple_analyze(list_sentences: list = [], list_symptoms_map: list = []) -> None:\n",
    "\n",
    "    try:\n",
    "        if len(list_sentences) == 0:\n",
    "            raise Exception('Não foi possível concluir o processo pois não foi informada uma lista de sintomas de pacientes.')\n",
    "        if len(list_symptoms_map) == 0:\n",
    "            raise Exception('Não foi possível concluir o processo pois não foi informada uma lista de sintomas com diagnósticos.')\n",
    "\n",
    "        for str_sentences in list_sentences:\n",
    "            str_sentences_lower = str_sentences.lower()\n",
    "            str_diagnostic = \"Não identificado\"\n",
    "\n",
    "            for dict_symptom in list_symptoms_map:\n",
    "                if dict_symptom[\"sintoma1\"] in str_sentences_lower or dict_symptom[\"sintoma2\"] in str_diagnostic:\n",
    "                    str_diagnostic = dict_symptom[\"doenca\"]\n",
    "                    break\n",
    "\n",
    "            print(f\"Sintomas do paciente: {str_sentences.strip()}\")\n",
    "            print(f\"→ Diagnóstico: {str_diagnostic}\\n\")\n",
    "\n",
    "    except Exception as error:\n",
    "        print(f\"Ocorreu o seguinte erro: {error}\")"
   ]
  },
  {
   "cell_type": "markdown",
   "id": "fb1305aa-3067-4d8b-8536-1a88411c721e",
   "metadata": {},
   "source": [
    "### 2. Mapa de sintomas com diagnósticos\n",
    "\n",
    "Importação do arquivo contendo um mapa de sintomas com diagnósticos."
   ]
  },
  {
   "cell_type": "markdown",
   "id": "3034ca23-5660-4b98-af38-9a70183d86d9",
   "metadata": {},
   "source": [
    "**Nota**: Caso necessário, basta adicionar outros arquivos no formato csv no diretório \"symptoms_map/\" e alterar a variável `str_file_path_symtoms_map`."
   ]
  },
  {
   "cell_type": "code",
   "execution_count": 5,
   "id": "3c4971b6-0afd-44a1-b2dc-0fa82cfeeb36",
   "metadata": {},
   "outputs": [],
   "source": [
    "str_file_path_symtoms_map = \"symptoms_map_example1.csv\""
   ]
  },
  {
   "cell_type": "markdown",
   "id": "e7d5fa67-c5a5-4439-a6fa-8089e385c06d",
   "metadata": {},
   "source": [
    "Execução da importação do mapa."
   ]
  },
  {
   "cell_type": "code",
   "execution_count": 6,
   "id": "cf1d49b4-6998-402b-baec-88062dbc70d4",
   "metadata": {},
   "outputs": [],
   "source": [
    "list_symptoms_map = load_file_symptoms_map(f\"symptoms_map{os.sep}{str_file_path_symtoms_map}\")"
   ]
  },
  {
   "cell_type": "markdown",
   "id": "da0f623d-0080-4d9a-abe7-0304e28e5e98",
   "metadata": {},
   "source": [
    "### 3. Lista de sintomas de pacientes.\n",
    "\n",
    "Importação do arquivo contendo uma lista de sintomas de pacientes."
   ]
  },
  {
   "cell_type": "markdown",
   "id": "0a6b8baa-37ed-4d57-884a-d9fb2a245233",
   "metadata": {},
   "source": [
    "**Nota**: Caso necessário, basta adicionar outros arquivos no formato txt contendo listas de sintomas de pacientes e alterar a variável `str_file_path_symtoms`."
   ]
  },
  {
   "cell_type": "code",
   "execution_count": 7,
   "id": "c2e70ec3-e86b-4789-9d9a-5ebd5b9f0a6f",
   "metadata": {},
   "outputs": [],
   "source": [
    "str_file_path_symtoms = \"symptoms_example1.txt\""
   ]
  },
  {
   "cell_type": "markdown",
   "id": "12fda6b6-4a0c-481b-9c24-6e214e23f45e",
   "metadata": {},
   "source": [
    "Execução da importação dos sintomas dos pacientes."
   ]
  },
  {
   "cell_type": "code",
   "execution_count": 8,
   "id": "e0af37ac-b33f-4f19-bf8e-3cec9a310235",
   "metadata": {},
   "outputs": [],
   "source": [
    "list_sentences = load_file_symptoms(f\"symptoms{os.sep}{str_file_path_symtoms}\")"
   ]
  },
  {
   "cell_type": "markdown",
   "id": "163c3d1d-f448-47b4-a531-162c34d66642",
   "metadata": {},
   "source": [
    "### 4. Análise simples\n",
    "\n",
    "Execução da análise simples utilizando como parâmetros o arquivo de teste contendo um mapa de sintomas com diagnósticos e um arquivo de texto simples contendo sintomas descritos."
   ]
  },
  {
   "cell_type": "code",
   "execution_count": 9,
   "id": "619c6489-2d83-4d6c-9248-4189f4c88937",
   "metadata": {},
   "outputs": [
    {
     "name": "stdout",
     "output_type": "stream",
     "text": [
      "Sintomas do paciente: Hà quatro dias, sinto tontura quando me levanto muito rápido.\n",
      "→ Diagnóstico: Labirintite\n",
      "\n",
      "Sintomas do paciente: Há uma semana, mesmo depois de descansar, sinto cansaço constante.\n",
      "→ Diagnóstico: Insuficiência Cardíaca\n",
      "\n",
      "Sintomas do paciente: Minha garganta está inflamada há dois dias e tenho dificuldade para engolir.\n",
      "→ Diagnóstico: Não identificado\n",
      "\n",
      "Sintomas do paciente: Tenho tosse persistente há mais de dez dias e também estou com dificuldade para respirar durante a noite.\n",
      "→ Diagnóstico: Bronquite\n",
      "\n",
      "Sintomas do paciente: Há dois dias estou com uma dor no peito. Observei que ela piora quando faço algum esforço físico.\n",
      "→ Diagnóstico: Infarto\n",
      "\n",
      "Sintomas do paciente: Estou com dor de cabeça forte há dois dias. Já tomei alguns remédios mas ela persiste.\n",
      "→ Diagnóstico: Enxaqueca\n",
      "\n",
      "Sintomas do paciente: Tenho falta de ar quando subo escadas ou quando faço algum esforço físico. Observei que isso ocorre há quatro dias.\n",
      "→ Diagnóstico: Angina\n",
      "\n",
      "Sintomas do paciente: Tenho febre alta há dois dias acompanhada de muitos calafrios.\n",
      "→ Diagnóstico: Infecção Viral\n",
      "\n",
      "Sintomas do paciente: Hà uma semana mais ou menos, observei uma dor abdominal intensa depois das refeições.\n",
      "→ Diagnóstico: Gastrite\n",
      "\n",
      "Sintomas do paciente: Estou há alguns dias com a visão embaçada e com dificuldades para enxergar à noite.\n",
      "→ Diagnóstico: Catarata\n",
      "\n",
      "Sintomas do paciente: Minha dor de cabeça vem piorando faz três semanas.\n",
      "→ Diagnóstico: Enxaqueca\n",
      "\n",
      "Sintomas do paciente: Estou tomando remédios, porém, continuo com náuseas e tontura.\n",
      "→ Diagnóstico: Labirintite\n",
      "\n",
      "Sintomas do paciente: Há duas semanas estou com tontura e visão turva quando faço algum tipo de esforço físico.\n",
      "→ Diagnóstico: Labirintite\n",
      "\n",
      "Sintomas do paciente: Minha tosse melhorou na semana passada, porém, voltou nesta semana e também estou com um pouco de dor de cabeça.\n",
      "→ Diagnóstico: Enxaqueca\n",
      "\n",
      "Sintomas do paciente: Tenho tido febre com frequência nas quatro últimas semanas, além de tontura e um pouco de dor no peito.\n",
      "→ Diagnóstico: Infarto\n",
      "\n"
     ]
    }
   ],
   "source": [
    "simple_analyze(list_sentences, list_symptoms_map)"
   ]
  },
  {
   "cell_type": "markdown",
   "id": "78af89ff-8916-455a-9797-d2e3a7400527",
   "metadata": {},
   "source": [
    "Fim do processo de análise."
   ]
  }
 ],
 "metadata": {
  "kernelspec": {
   "display_name": "Python 3 (ipykernel)",
   "language": "python",
   "name": "python3"
  },
  "language_info": {
   "codemirror_mode": {
    "name": "ipython",
    "version": 3
   },
   "file_extension": ".py",
   "mimetype": "text/x-python",
   "name": "python",
   "nbconvert_exporter": "python",
   "pygments_lexer": "ipython3",
   "version": "3.12.5"
  }
 },
 "nbformat": 4,
 "nbformat_minor": 5
}
