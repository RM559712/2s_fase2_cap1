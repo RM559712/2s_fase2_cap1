{
 "cells": [
  {
   "cell_type": "markdown",
   "id": "b1f28060-143f-4576-9653-f3da1424ae2d",
   "metadata": {},
   "source": [
    "# Sobre o modelo\n",
    "\n",
    "O processo abaixo demonstra como um modelo simples de classificador de texto pode executar uma função básica de triagem clínica."
   ]
  },
  {
   "cell_type": "code",
   "execution_count": 1,
   "id": "ea98c72d-f330-45b0-95ae-858d2a69a71a",
   "metadata": {},
   "outputs": [],
   "source": [
    "import os\n",
    "import pandas as pd\n",
    "from sklearn.feature_extraction.text import TfidfVectorizer\n",
    "from sklearn.model_selection import train_test_split\n",
    "from sklearn.linear_model import LogisticRegression\n",
    "from sklearn.metrics import accuracy_score, classification_report"
   ]
  },
  {
   "cell_type": "markdown",
   "id": "cf08de62-bdec-46d5-8dec-cd0e5d097c7f",
   "metadata": {},
   "source": [
    "### 1. Funções que irão auxiliar na execução do processo."
   ]
  },
  {
   "cell_type": "markdown",
   "id": "d1b272d0-7752-462f-9102-a69c53553def",
   "metadata": {},
   "source": [
    "Função responsável pelo carregamento de arquivos do tipo csv contendo diagnósticos médicos rotulados com níveis de risco."
   ]
  },
  {
   "cell_type": "code",
   "execution_count": 2,
   "id": "46638808-76d6-4748-9c8a-f72e5682d6ab",
   "metadata": {},
   "outputs": [],
   "source": [
    "def load_file_symptoms(str_file_path: str = '') -> dict:\n",
    "    dict_return = []\n",
    "\n",
    "    try:\n",
    "        if str_file_path.strip() == '':\n",
    "            raise Exception('Não foi possível concluir o processo pois não foi definido o nome do arquivo.')\n",
    "\n",
    "        dict_return = pd.read_csv(str_file_path)\n",
    "\n",
    "    except Exception as error:\n",
    "        print(f\"Ocorreu o seguinte erro: {error}\")\n",
    "\n",
    "    return dict_return"
   ]
  },
  {
   "cell_type": "markdown",
   "id": "66fd3134-89e3-4e5b-bdd7-5e756cd58a5d",
   "metadata": {},
   "source": [
    "Função responsável por executar uma classificação simples utilizando diagnósticos médicos rotulados com níveis de risco."
   ]
  },
  {
   "cell_type": "code",
   "execution_count": 3,
   "id": "07f9c371-191d-4a91-8861-50296a1886aa",
   "metadata": {},
   "outputs": [],
   "source": [
    "def simple_classification_tf_idf(dict_symptoms: dict = {}, list_symptoms_validate: list = []) -> None:\n",
    "\n",
    "    try:\n",
    "\n",
    "        if len(dict_symptoms) == 0:\n",
    "            raise Exception('Não foi possível concluir o processo pois não foi informada uma lista de diagnósticos.')\n",
    "        if len(list_symptoms_validate) == 0:\n",
    "            raise Exception('Não foi possível concluir o processo pois não foi informada uma lista de sintomas.')\n",
    "\n",
    "        # Definição de labels\n",
    "        X = dict_symptoms['frase']\n",
    "        y = dict_symptoms['situacao']\n",
    "\n",
    "        # Conversão dos texto para vetores TF-IDF\n",
    "        object_tfidf_vectorizer = TfidfVectorizer()\n",
    "        X_tfidf = object_tfidf_vectorizer.fit_transform(X)\n",
    "\n",
    "        # Definições para execução de treino\n",
    "        X_train, X_test, y_train, y_test = train_test_split(X_tfidf, y, test_size=0.3, random_state=42, stratify=y)\n",
    "        object_logistic_regression = LogisticRegression()\n",
    "        object_logistic_regression.fit(X_train, y_train)\n",
    "\n",
    "        # Processo de execução do treino\n",
    "        y_pred = object_logistic_regression.predict(X_test)\n",
    "\n",
    "        # Processo de avaliação\n",
    "        print(\"Acurácia:\", accuracy_score(y_test, y_pred))\n",
    "        print(\"\\nRelatório de Classificação:\\n\", classification_report(y_test, y_pred))\n",
    "\n",
    "        # Processo de teste com a lista de sintomas\n",
    "        list_symptoms_validate_tfidf = object_tfidf_vectorizer.transform(list_symptoms_validate)\n",
    "        print(\"\\nSintoma(s):\", list_symptoms_validate)\n",
    "        print(\"Classificação:\", object_logistic_regression.predict(list_symptoms_validate_tfidf)[0])\n",
    "\n",
    "    except Exception as error:\n",
    "        print(f\"Ocorreu o seguinte erro: {error}\")"
   ]
  },
  {
   "cell_type": "markdown",
   "id": "3736812e-3abb-4733-9978-42b8f034e73e",
   "metadata": {},
   "source": [
    "### 2. Lista com diagnósticos\n",
    "\n",
    "Importação do arquivo contendo uma lista com diagnósticos."
   ]
  },
  {
   "cell_type": "markdown",
   "id": "ecd9626e-af19-4cc3-9e0e-23bc339ebabc",
   "metadata": {},
   "source": [
    "**Nota**: Caso necessário, basta adicionar outros arquivos no formato txt contendo listas de sintomas de pacientes e alterar a variável `str_file_path_symptoms`."
   ]
  },
  {
   "cell_type": "code",
   "execution_count": 4,
   "id": "d3ee42f2-37e9-42b5-9f63-27f703dc21f3",
   "metadata": {},
   "outputs": [],
   "source": [
    "str_file_path_symptoms = \"symptoms_example1.csv\""
   ]
  },
  {
   "cell_type": "markdown",
   "id": "b62d93fb-3844-4d8b-a564-a5f8183c9ee3",
   "metadata": {},
   "source": [
    "Execução da importação da lista com diagnósticos."
   ]
  },
  {
   "cell_type": "code",
   "execution_count": 5,
   "id": "225dc54a-b730-4f49-8933-ed4d33a3cadd",
   "metadata": {},
   "outputs": [],
   "source": [
    "dict_symptoms = load_file_symptoms(f\"symptoms{os.sep}{str_file_path_symptoms}\")"
   ]
  },
  {
   "cell_type": "markdown",
   "id": "ed0e2b4f-8f5e-42ff-9085-70443c67422e",
   "metadata": {},
   "source": [
    "### 3. Classificação simples\n",
    "\n",
    "Execução da classificação simples utilizando como parâmetros a lista com diagnósticos e uma  lista contendo diagnósticos."
   ]
  },
  {
   "cell_type": "markdown",
   "id": "36a06cf8-8e0b-4ddb-a2bb-a6d714eda817",
   "metadata": {},
   "source": [
    "**Nota**: Caso necessário, basta definir outras frases a partir da variável `list_symptoms_validate`."
   ]
  },
  {
   "cell_type": "code",
   "execution_count": 6,
   "id": "67d33a05-3ed8-47f9-9652-4d59653ef157",
   "metadata": {},
   "outputs": [],
   "source": [
    "list_symptoms_validate = [\"dor nas costas\", \"dor no peito\", \"cansaço\"]"
   ]
  },
  {
   "cell_type": "markdown",
   "id": "c3147a73-2e7b-4838-b822-766bed4e8a63",
   "metadata": {},
   "source": [
    "Execução da classificação simples."
   ]
  },
  {
   "cell_type": "code",
   "execution_count": 7,
   "id": "3de1b5df-b71e-469c-8596-c6e33294a03d",
   "metadata": {},
   "outputs": [
    {
     "name": "stdout",
     "output_type": "stream",
     "text": [
      "Acurácia: 0.43854166666666666\n",
      "\n",
      "Relatório de Classificação:\n",
      "               precision    recall  f1-score   support\n",
      "\n",
      "  alto risco       0.44      0.47      0.45       480\n",
      " baixo risco       0.43      0.41      0.42       480\n",
      "\n",
      "    accuracy                           0.44       960\n",
      "   macro avg       0.44      0.44      0.44       960\n",
      "weighted avg       0.44      0.44      0.44       960\n",
      "\n",
      "\n",
      "Sintoma(s): ['dor nas costas', 'dor no peito', 'cansaço']\n",
      "Classificação: alto risco\n"
     ]
    }
   ],
   "source": [
    "simple_classification_tf_idf(dict_symptoms, list_symptoms_validate)"
   ]
  },
  {
   "cell_type": "markdown",
   "id": "74030631-65b6-4329-929e-93c5819a3788",
   "metadata": {},
   "source": [
    "Fim do processo de classificação."
   ]
  }
 ],
 "metadata": {
  "kernelspec": {
   "display_name": "Python 3 (ipykernel)",
   "language": "python",
   "name": "python3"
  },
  "language_info": {
   "codemirror_mode": {
    "name": "ipython",
    "version": 3
   },
   "file_extension": ".py",
   "mimetype": "text/x-python",
   "name": "python",
   "nbconvert_exporter": "python",
   "pygments_lexer": "ipython3",
   "version": "3.12.5"
  }
 },
 "nbformat": 4,
 "nbformat_minor": 5
}
